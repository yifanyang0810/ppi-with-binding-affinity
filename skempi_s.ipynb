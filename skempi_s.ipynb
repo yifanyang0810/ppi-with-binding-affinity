{
 "cells": [
  {
   "cell_type": "code",
   "execution_count": 101,
   "metadata": {},
   "outputs": [],
   "source": [
    "from Bio.PDB import *\n",
    "import pandas as pd\n",
    "import warnings\n",
    "from Bio import BiopythonWarning\n",
    "warnings.simplefilter('ignore', BiopythonWarning)\n",
    "import csv\n",
    "import numpy as np\n",
    "from Bio.PDB.Polypeptide import three_to_one, one_to_three                           \n",
    "import math"
   ]
  },
  {
   "cell_type": "markdown",
   "metadata": {},
   "source": [
    "load skempi excel file"
   ]
  },
  {
   "cell_type": "code",
   "execution_count": 110,
   "metadata": {},
   "outputs": [
    {
     "name": "stdout",
     "output_type": "stream",
     "text": [
      "Size of the data: (6794, 29)\n",
      "Top 25 samples are selected for demo purpose.\n"
     ]
    }
   ],
   "source": [
    "def load_pd(fName):\n",
    "    df = pd.read_csv(fName)\n",
    "    df = df.dropna(subset = ['Affinity_mut_parsed', 'Affinity_wt_parsed', 'Temperature'])\n",
    "    return df\n",
    "\n",
    "skepiIn = \"C:/Users/amber/Study_Documents/intern/inno/ppi with binding affinity/skempi/skempi_v2.csv\"\n",
    "ppi = load_pd(skepiIn)\n",
    "print(\"Size of the data:\", ppi.shape)\n",
    "\n",
    "ppi = np.array(ppi)\n",
    "# print(ppi)\n",
    "\n",
    "# process temperature at 13 columns\n",
    "select_N = 25\n",
    "print(\"Top \" + str(select_N) + \" samples are selected for demo purpose.\")\n",
    "for i in range(select_N):\n",
    "    elem = ppi[i, 13].strip()\n",
    "    ppi[i, 13] = elem[:3] # some termperature followed by 298(assumed), [:3] keeps only number"
   ]
  },
  {
   "cell_type": "code",
   "execution_count": 111,
   "metadata": {},
   "outputs": [],
   "source": [
    "pid_set = []\n",
    "\n",
    "for i in range(select_N):\n",
    "# for i in range(10):\n",
    "#     print(ppi[i,:])\n",
    "    ent_name = ppi[i,0][:4]\n",
    "#     .lower()\n",
    "#   set of pid\n",
    "    if ent_name not in pid_set:\n",
    "        pid_set.append(ent_name)\n",
    "    \n",
    "    chains = ppi[i,0].split('_')[1:]\n",
    "    assert(len(chains) == 2)"
   ]
  },
  {
   "cell_type": "code",
   "execution_count": 112,
   "metadata": {},
   "outputs": [
    {
     "name": "stdout",
     "output_type": "stream",
     "text": [
      "1CSE\n",
      "Structure exists: './skempi/PDBs/pdb1cse.ent' \n",
      "1ACB\n",
      "Structure exists: './skempi/PDBs/pdb1acb.ent' \n",
      "1SBN\n",
      "Downloading PDB structure '1SBN'...\n",
      "1SIB\n",
      "Downloading PDB structure '1SIB'...\n",
      "1TM1\n",
      "Downloading PDB structure '1TM1'...\n"
     ]
    }
   ],
   "source": [
    "def download_all_pdb(pid_set):\n",
    "   pdbl = PDBList()\n",
    "   for elem in pid_set:\n",
    "        print(elem)\n",
    "        assert(len(elem) ==4)\n",
    "        pdbl.retrieve_pdb_file(elem, pdir = './skempi/PDBs/', file_format='pdb')\n",
    "\n",
    "download_all_pdb(pid_set)  "
   ]
  },
  {
   "cell_type": "code",
   "execution_count": 113,
   "metadata": {},
   "outputs": [],
   "source": [
    "def get_seq(ent_name, mutation_pdb, chains, affinity, temp, seq_dict):\n",
    "#    print(mutation_pdb)\n",
    "    chain_ID, residue_ID, r_w, r_m = mutation_pdb[1], mutation_pdb[2:-1], mutation_pdb[0], mutation_pdb[-1]\n",
    "    # print('chain_ID, residue_ID, r_w, r_m',chain_ID, residue_ID, r_w, r_m)\n",
    "    \n",
    "    #parse structure\n",
    "    parser = PDBParser()\n",
    "    structure = parser.get_structure(ent_name, './skempi/PDBs/pdb'+ ent_name.lower() + '.ent')\n",
    "#    print(structure) # this print structure id for first 10 elements <Structure id=1CSE>\n",
    "    # print(len(structure)) # the structure length are all 1\n",
    "    assert(len(structure) == 1)\n",
    "    model = structure[0]\n",
    "\n",
    "#     for elem in model.get_chains():\n",
    "#         print(elem)\n",
    "    w_seq0 = ''\n",
    "    \n",
    "    for each_chain in chains[0]:\n",
    "    #    print(each_chain,)\n",
    "        chain0 = model[each_chain]\n",
    "        ppb = PPBuilder()\n",
    "        for pp in ppb.build_peptides(chain0): # one chain could have multiple sequence seperatly measured\n",
    "        #    print(pp)\n",
    "        #    print('Ch0',pp.get_sequence())\n",
    "            w_seq0 += pp.get_sequence() # record chain sequencing for first chain in each sample protein\n",
    "\n",
    "    w_seq1 = ''\n",
    "    for each_chain in chains[1]:\n",
    "#         print(each_chain,)\n",
    "        chain1 = model[each_chain]\n",
    "        for pp in ppb.build_peptides(chain1):\n",
    "    #         print('Ch1',pp.get_sequence())\n",
    "            w_seq1 += pp.get_sequence()\n",
    "\n",
    "    w_name0 = mut_name0 = ent_name+'_'+chains[0]\n",
    "    w_name1 = mut_name1 = ent_name+'_'+chains[1]\n",
    "#    print(\"Wildtype\", w_name0, w_name1)\n",
    "#    print(w_seq0)\n",
    "#    print(w_seq1)\n",
    "    \n",
    "    if w_name0 not in seq_dict:\n",
    "        seq_dict[w_name0] = w_seq0\n",
    "    if w_name1 not in seq_dict:\n",
    "        seq_dict[w_name1] = w_seq1\n",
    "    #print(seq_dict)\n",
    "\n",
    "#     Mutation\n",
    "    mut_chain = model[chain_ID]\n",
    "    #print(chain_ID)\n",
    "#    print(mut_chain)\n",
    "    if residue_ID.isdigit():\n",
    "        #print(residue_ID)\n",
    "        residue = mut_chain[int(residue_ID)-1]\n",
    "        #print(residue.resname)\n",
    "    else:\n",
    "#         print(residue_ID[:-1], residue_ID[-1])\n",
    "        residue = mut_chain[(' ', int(residue_ID[:-1]), residue_ID[-1].upper())]\n",
    "\n",
    "    #print(three_to_one(residue.resname), r_m, r_w)\n",
    "    assert(three_to_one(residue.resname) == r_w)\n",
    "\n",
    "    residue.resname = one_to_three(r_m)\n",
    "    \n",
    "    m_seq0 = ''\n",
    "    m_seq1 = ''\n",
    "\n",
    "#     chain_ID, residue_ID, r_w, r_m = mutation_pdb[1], mutation_pdb[2:-1], mutation_pdb[0], mutation_pdb[-1]\n",
    "    \n",
    "    for each_chain in chains[0]:\n",
    "        chain0 = model[each_chain]\n",
    "#        print(chain_ID, chain0)\n",
    "        if chain_ID == chain0.id:\n",
    "    #        print(\"mutation on 1st chain\")\n",
    "#             mut_name0 = ent_name+'_'+chains[0] + '_' + mutation_pdb\n",
    "            mut_name0 = ent_name+'_'+chains[0] + '_' + one_to_three(r_w) + str(residue_ID) + one_to_three(r_m)\n",
    "    #        print(mut_name0)\n",
    "\n",
    "#             m_seq0 = ''\n",
    "            for pp in ppb.build_peptides(chain0):\n",
    "                m_seq0 += pp.get_sequence()\n",
    "        else:\n",
    "            for pp in ppb.build_peptides(chain0):\n",
    "                m_seq0 += pp.get_sequence()\n",
    "    \n",
    "    for each_chain in chains[1]:\n",
    "        chain1 = model[each_chain]\n",
    "#        print(chain_ID, chain1)\n",
    "        if chain_ID == chain1.id:\n",
    "#            print(\"mutation on 2nd chain\")\n",
    "#             mut_name1 = ent_name+'_'+chains[1] + '_' + mutation_pdb\n",
    "            mut_name1 = ent_name+'_'+chains[1] + '_' + one_to_three(r_w) + str(residue_ID) + one_to_three(r_m)\n",
    "#            print(mut_name1)\n",
    "#             m_seq0 = ''\n",
    "            for pp in ppb.build_peptides(chain1):\n",
    "                m_seq1 += pp.get_sequence()\n",
    "        else:\n",
    "            for pp in ppb.build_peptides(chain1):\n",
    "                m_seq1 += pp.get_sequence()\n",
    "\n",
    "    if mut_name0 not in seq_dict:\n",
    "        seq_dict[mut_name0] = m_seq0\n",
    "    if mut_name1 not in seq_dict:\n",
    "        seq_dict[mut_name1] = m_seq1\n",
    "#    print(seq_dict)    \n",
    "    \n",
    "    return seq_dict\n"
   ]
  },
  {
   "cell_type": "code",
   "execution_count": 114,
   "metadata": {},
   "outputs": [],
   "source": [
    "def get_score(ent_name, mutation_pdb, chains, affinity, temp, score_info):\n",
    "    \n",
    "    chain_ID, residue_ID, r_w, r_m = mutation_pdb[1], mutation_pdb[2:-1], mutation_pdb[0], mutation_pdb[-1]\n",
    "    #print('chain_ID, residue_ID, r_w, r_m',chain_ID, residue_ID, r_w, r_m)\n",
    "    \n",
    "        \n",
    "    w_name0 = mut_name0 = ent_name+'_'+chains[0]\n",
    "    w_name1 = mut_name1 = ent_name+'_'+chains[1]\n",
    "#     print(\"Wildtype\", w_name0, w_name1)\n",
    "    dG_w =  (8.314/4184)*(float(temp)) * math.log(float(affinity[1]))\n",
    "    print(w_name0, w_name1, dG_w, file=open(\"./skempi/mut.dg.txt\", \"a\"))\n",
    "#     Mutation\n",
    "    \n",
    "    for each_chain in chains[0]:\n",
    "#         print(chain_ID, chain0)\n",
    "        if chain_ID == each_chain:\n",
    "#             print(\"mutation on 1st chain\")\n",
    "            mut_name0 = ent_name+'_'+chains[0] + '_' + one_to_three(r_w) + str(residue_ID) + one_to_three(r_m)\n",
    "    \n",
    "    for each_chain in chains[1]:\n",
    "#         print(chain_ID, chain1)\n",
    "        if chain_ID == each_chain:\n",
    "#             print(\"mutation on 2nd chain\")\n",
    "            mut_name1 = ent_name+'_'+chains[1] + '_' + one_to_three(r_w) + str(residue_ID) + one_to_three(r_m)\n",
    "\n",
    "    dG_m = (8.314/4184)*(float(temp)) * math.log(float(affinity[0]))\n",
    "    \n",
    "    \n",
    "    print(mut_name0, mut_name1,dG_m, file=open(\"./skempi/mut.dg.txt\", \"a\"))\n",
    "    return score_info"
   ]
  },
  {
   "cell_type": "code",
   "execution_count": 117,
   "metadata": {},
   "outputs": [
    {
     "name": "stdout",
     "output_type": "stream",
     "text": [
      "(6794, 29)\n",
      "1CSE\n",
      "1CSE\n",
      "1CSE\n",
      "1CSE\n",
      "1CSE\n",
      "1CSE\n",
      "1ACB\n",
      "1ACB\n",
      "1ACB\n",
      "1ACB\n",
      "1ACB\n",
      "1ACB\n",
      "1SBN\n"
     ]
    },
    {
     "ename": "AssertionError",
     "evalue": "",
     "output_type": "error",
     "traceback": [
      "\u001b[1;31m---------------------------------------------------------------------------\u001b[0m",
      "\u001b[1;31mAssertionError\u001b[0m                            Traceback (most recent call last)",
      "\u001b[1;32m~\\AppData\\Local\\Temp/ipykernel_30568/476815085.py\u001b[0m in \u001b[0;36m<module>\u001b[1;34m\u001b[0m\n\u001b[0;32m     23\u001b[0m     \u001b[0mmutations_pdb\u001b[0m \u001b[1;33m=\u001b[0m \u001b[0mppi\u001b[0m\u001b[1;33m[\u001b[0m\u001b[0mi\u001b[0m\u001b[1;33m]\u001b[0m\u001b[1;33m[\u001b[0m\u001b[1;36m2\u001b[0m\u001b[1;33m]\u001b[0m\u001b[1;33m.\u001b[0m\u001b[0msplit\u001b[0m\u001b[1;33m(\u001b[0m\u001b[1;34m','\u001b[0m\u001b[1;33m)\u001b[0m \u001b[1;31m# could be multiple mutation in one row\u001b[0m\u001b[1;33m\u001b[0m\u001b[1;33m\u001b[0m\u001b[0m\n\u001b[0;32m     24\u001b[0m \u001b[1;31m#     if len(mutations_pdb) == 1:\u001b[0m\u001b[1;33m\u001b[0m\u001b[1;33m\u001b[0m\u001b[1;33m\u001b[0m\u001b[0m\n\u001b[1;32m---> 25\u001b[1;33m     \u001b[0mget_seq\u001b[0m\u001b[1;33m(\u001b[0m\u001b[0ment_name\u001b[0m\u001b[1;33m,\u001b[0m \u001b[0mmutations_pdb\u001b[0m\u001b[1;33m[\u001b[0m\u001b[1;36m0\u001b[0m\u001b[1;33m]\u001b[0m\u001b[1;33m,\u001b[0m \u001b[0mchains\u001b[0m\u001b[1;33m,\u001b[0m \u001b[0maffinity\u001b[0m\u001b[1;33m,\u001b[0m \u001b[0mtemp\u001b[0m\u001b[1;33m,\u001b[0m \u001b[0mseq_dict\u001b[0m\u001b[1;33m)\u001b[0m\u001b[1;33m\u001b[0m\u001b[1;33m\u001b[0m\u001b[0m\n\u001b[0m\u001b[0;32m     26\u001b[0m     \u001b[0mget_score\u001b[0m\u001b[1;33m(\u001b[0m\u001b[0ment_name\u001b[0m\u001b[1;33m,\u001b[0m \u001b[0mmutations_pdb\u001b[0m\u001b[1;33m[\u001b[0m\u001b[1;36m0\u001b[0m\u001b[1;33m]\u001b[0m\u001b[1;33m,\u001b[0m \u001b[0mchains\u001b[0m\u001b[1;33m,\u001b[0m \u001b[0maffinity\u001b[0m\u001b[1;33m,\u001b[0m \u001b[0mtemp\u001b[0m\u001b[1;33m,\u001b[0m \u001b[0mscore_info\u001b[0m\u001b[1;33m)\u001b[0m\u001b[1;33m\u001b[0m\u001b[1;33m\u001b[0m\u001b[0m\n\u001b[0;32m     27\u001b[0m \u001b[1;33m\u001b[0m\u001b[0m\n",
      "\u001b[1;32m~\\AppData\\Local\\Temp/ipykernel_30568/2008976748.py\u001b[0m in \u001b[0;36mget_seq\u001b[1;34m(ent_name, mutation_pdb, chains, affinity, temp, seq_dict)\u001b[0m\n\u001b[0;32m     58\u001b[0m \u001b[1;33m\u001b[0m\u001b[0m\n\u001b[0;32m     59\u001b[0m     \u001b[1;31m#print(three_to_one(residue.resname), r_m, r_w)\u001b[0m\u001b[1;33m\u001b[0m\u001b[1;33m\u001b[0m\u001b[1;33m\u001b[0m\u001b[0m\n\u001b[1;32m---> 60\u001b[1;33m     \u001b[1;32massert\u001b[0m\u001b[1;33m(\u001b[0m\u001b[0mthree_to_one\u001b[0m\u001b[1;33m(\u001b[0m\u001b[0mresidue\u001b[0m\u001b[1;33m.\u001b[0m\u001b[0mresname\u001b[0m\u001b[1;33m)\u001b[0m \u001b[1;33m==\u001b[0m \u001b[0mr_w\u001b[0m\u001b[1;33m)\u001b[0m\u001b[1;33m\u001b[0m\u001b[1;33m\u001b[0m\u001b[0m\n\u001b[0m\u001b[0;32m     61\u001b[0m \u001b[1;33m\u001b[0m\u001b[0m\n\u001b[0;32m     62\u001b[0m     \u001b[0mresidue\u001b[0m\u001b[1;33m.\u001b[0m\u001b[0mresname\u001b[0m \u001b[1;33m=\u001b[0m \u001b[0mone_to_three\u001b[0m\u001b[1;33m(\u001b[0m\u001b[0mr_m\u001b[0m\u001b[1;33m)\u001b[0m\u001b[1;33m\u001b[0m\u001b[1;33m\u001b[0m\u001b[0m\n",
      "\u001b[1;31mAssertionError\u001b[0m: "
     ]
    }
   ],
   "source": [
    "mult_mutation = 0\n",
    "seq_dict = {}\n",
    "score_info = \"\"\n",
    "\n",
    "cnt_single_chain = cnt_both_chain = 0\n",
    "\n",
    "f1 = open(\"./skempi/mut.seq.txt\", \"w\")\n",
    "f2 = open(\"./skempi/mut.dg.txt\", \"w\")\n",
    "print(ppi.shape)\n",
    "\n",
    "for i in range(select_N):\n",
    "# for i in range(10):\n",
    "#     print(ppi[i,:])\n",
    "    ent_name = ppi[i,0][:4]\n",
    "#     .lower()\n",
    "    print(ent_name)\n",
    "    chains = ppi[i,0].split('_')[1:]\n",
    "    assert(len(chains) == 2)\n",
    "#     print(i, len(ppi))\n",
    "    affinity = ppi[i,(7,9)]\n",
    "    temp = ppi[i,13]\n",
    "    #print(i, ppi[i, :3], temp, affinity)\n",
    "    mutations_pdb = ppi[i][2].split(',') # could be multiple mutation in one row\n",
    "#     if len(mutations_pdb) == 1:\n",
    "    get_seq(ent_name, mutations_pdb[0], chains, affinity, temp, seq_dict)\n",
    "    get_score(ent_name, mutations_pdb[0], chains, affinity, temp, score_info) \n",
    "\n",
    "for elem in seq_dict:\n",
    "    print(elem, seq_dict[elem], file=open(\"./skempi/mut.seq.txt\", \"a\"))\n",
    "\n",
    "\n",
    "  "
   ]
  },
  {
   "cell_type": "code",
   "execution_count": 119,
   "metadata": {},
   "outputs": [
    {
     "ename": "KeyError",
     "evalue": "'1SIB_I'",
     "output_type": "error",
     "traceback": [
      "\u001b[1;31m---------------------------------------------------------------------------\u001b[0m",
      "\u001b[1;31mKeyError\u001b[0m                                  Traceback (most recent call last)",
      "\u001b[1;32m~\\AppData\\Local\\Temp/ipykernel_30568/3159015364.py\u001b[0m in \u001b[0;36m<module>\u001b[1;34m\u001b[0m\n\u001b[1;32m----> 1\u001b[1;33m \u001b[0mseq_dict\u001b[0m\u001b[1;33m[\u001b[0m\u001b[1;34m'1SIB_I'\u001b[0m\u001b[1;33m]\u001b[0m\u001b[1;33m[\u001b[0m\u001b[1;36m45\u001b[0m\u001b[1;33m]\u001b[0m\u001b[1;33m\u001b[0m\u001b[1;33m\u001b[0m\u001b[0m\n\u001b[0m",
      "\u001b[1;31mKeyError\u001b[0m: '1SIB_I'"
     ]
    }
   ],
   "source": [
    "seq_dict['1SIB_I'][45]"
   ]
  }
 ],
 "metadata": {
  "interpreter": {
   "hash": "ddacf5a9753c205792bc2e3a33e4714031699840e2237c63a36cc919b2a54016"
  },
  "kernelspec": {
   "display_name": "Python 3.7.7 ('tensorflow')",
   "language": "python",
   "name": "python3"
  },
  "language_info": {
   "codemirror_mode": {
    "name": "ipython",
    "version": 3
   },
   "file_extension": ".py",
   "mimetype": "text/x-python",
   "name": "python",
   "nbconvert_exporter": "python",
   "pygments_lexer": "ipython3",
   "version": "3.7.6"
  },
  "orig_nbformat": 4
 },
 "nbformat": 4,
 "nbformat_minor": 2
}
