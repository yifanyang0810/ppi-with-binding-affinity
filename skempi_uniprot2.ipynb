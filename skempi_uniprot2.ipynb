{
 "cells": [
  {
   "cell_type": "code",
   "execution_count": 27,
   "metadata": {},
   "outputs": [],
   "source": [
    "from Bio.PDB import *\n",
    "import pandas as pd\n",
    "import warnings\n",
    "from Bio import BiopythonWarning\n",
    "warnings.simplefilter('ignore', BiopythonWarning)\n",
    "import csv\n",
    "import numpy as np\n",
    "from Bio.PDB.Polypeptide import three_to_one, one_to_three                           \n",
    "import math\n",
    "import requests as r\n",
    "from Bio import SeqIO\n",
    "from io import StringIO"
   ]
  },
  {
   "cell_type": "code",
   "execution_count": 28,
   "metadata": {},
   "outputs": [],
   "source": [
    "def load_file(fName):\n",
    "    df = pd.read_csv(fName)\n",
    "    return df"
   ]
  },
  {
   "cell_type": "code",
   "execution_count": 29,
   "metadata": {},
   "outputs": [
    {
     "name": "stdout",
     "output_type": "stream",
     "text": [
      "Size of the data: (6794, 29)\n"
     ]
    }
   ],
   "source": [
    "def load_pd(fName):\n",
    "    df = pd.read_csv(fName)\n",
    "    df = df.dropna(subset = ['Affinity_mut_parsed', 'Affinity_wt_parsed', 'Temperature'])\n",
    "    return df\n",
    "\n",
    "skepiIn = \"C:/Users/amber/Study_Documents/intern/inno/ppi with binding affinity/skempi/skempi_v2.csv\"\n",
    "ppi = load_pd(skepiIn)\n",
    "print(\"Size of the data:\", ppi.shape)\n"
   ]
  },
  {
   "cell_type": "markdown",
   "metadata": {},
   "source": [
    "# wild-type library"
   ]
  },
  {
   "cell_type": "markdown",
   "metadata": {},
   "source": [
    "## get dG data"
   ]
  },
  {
   "cell_type": "code",
   "execution_count": 30,
   "metadata": {},
   "outputs": [
    {
     "name": "stdout",
     "output_type": "stream",
     "text": [
      "225\n"
     ]
    }
   ],
   "source": [
    "dg_info = []\n",
    "wild_list = []\n",
    "\n",
    "cnt_single_chain = cnt_both_chain = 0\n",
    "\n",
    "f1 = open(\"./skempi/wild.seq.txt\", \"w\")\n",
    "f2 = open(\"./skempi/wild.dg.txt\", \"w\")\n",
    "#print(ppi.shape)\n",
    "\n",
    "for i in range(6794):\n",
    "    data = ppi.iloc[i]\n",
    "    complex_id = data[0]\n",
    "    if complex_id not in wild_list:\n",
    "        ent_name = data[0][:4]\n",
    "    #     .lower()\n",
    "        #print(ent_name)\n",
    "        chains = data[0].split('_')[1:]\n",
    "        #print(chains)\n",
    "        assert(len(chains) == 2)\n",
    "    #     print(i, len(ppi))\n",
    "        chain_ID0 = chains[0]\n",
    "        chain_ID1 = chains[1]\n",
    "\n",
    "        # there also exists cases the two chains in one side\n",
    "        if len(chain_ID0) == 1 and len(chain_ID1) == 1:\n",
    "            kd = data['Affinity_wt_parsed']\n",
    "            #print(kd)\n",
    "            temp = data['Temperature'].strip()[:3]\n",
    "            #print(temp)\n",
    "            \n",
    "            #get_dg(ent_name, chain_ID0, chain_ID1, kd, dg_info)\n",
    "            wild_list.append(complex_id)\n",
    "\n",
    "print(len(wild_list))\n",
    "\n",
    "#for elem in dg_info:\n",
    "    #print(elem, file=open(\"./skempi/wild.dg.txt\", \"a\"))\n",
    "  "
   ]
  },
  {
   "cell_type": "markdown",
   "metadata": {},
   "source": [
    "there are 225 unique wild-type protein complex with two chains"
   ]
  },
  {
   "cell_type": "markdown",
   "metadata": {},
   "source": [
    "## get sequencing data"
   ]
  },
  {
   "cell_type": "markdown",
   "metadata": {},
   "source": [
    "### get seq from PDB bank"
   ]
  },
  {
   "cell_type": "markdown",
   "metadata": {},
   "source": [
    "download the pdb file"
   ]
  },
  {
   "cell_type": "code",
   "execution_count": 31,
   "metadata": {},
   "outputs": [
    {
     "name": "stdout",
     "output_type": "stream",
     "text": [
      "1CSE\n",
      "Structure exists: './skempi/PDBs/pdb1cse.ent' \n",
      "1ACB\n",
      "Structure exists: './skempi/PDBs/pdb1acb.ent' \n",
      "1SBN\n",
      "Structure exists: './skempi/PDBs/pdb1sbn.ent' \n",
      "1SIB\n",
      "Structure exists: './skempi/PDBs/pdb1sib.ent' \n",
      "1TM1\n",
      "Structure exists: './skempi/PDBs/pdb1tm1.ent' \n",
      "1Y1K\n",
      "Structure exists: './skempi/PDBs/pdb1y1k.ent' \n",
      "1Y33\n",
      "Structure exists: './skempi/PDBs/pdb1y33.ent' \n",
      "1Y34\n",
      "Structure exists: './skempi/PDBs/pdb1y34.ent' \n",
      "1Y3B\n",
      "Structure exists: './skempi/PDBs/pdb1y3b.ent' \n",
      "1Y4A\n",
      "Structure exists: './skempi/PDBs/pdb1y4a.ent' \n",
      "1Y3C\n",
      "Structure exists: './skempi/PDBs/pdb1y3c.ent' \n",
      "1Y48\n",
      "Structure exists: './skempi/PDBs/pdb1y48.ent' \n",
      "1Y3D\n",
      "Structure exists: './skempi/PDBs/pdb1y3d.ent' \n",
      "1TM4\n",
      "Structure exists: './skempi/PDBs/pdb1tm4.ent' \n",
      "1TM5\n",
      "Structure exists: './skempi/PDBs/pdb1tm5.ent' \n",
      "1TM3\n",
      "Structure exists: './skempi/PDBs/pdb1tm3.ent' \n",
      "1TM7\n",
      "Structure exists: './skempi/PDBs/pdb1tm7.ent' \n",
      "1TMG\n",
      "Structure exists: './skempi/PDBs/pdb1tmg.ent' \n",
      "1TO1\n",
      "Structure exists: './skempi/PDBs/pdb1to1.ent' \n",
      "2SIC\n",
      "Structure exists: './skempi/PDBs/pdb2sic.ent' \n",
      "1IAR\n",
      "Structure exists: './skempi/PDBs/pdb1iar.ent' \n",
      "1BRS\n",
      "Structure exists: './skempi/PDBs/pdb1brs.ent' \n",
      "1B2U\n",
      "Structure exists: './skempi/PDBs/pdb1b2u.ent' \n",
      "1B2S\n",
      "Structure exists: './skempi/PDBs/pdb1b2s.ent' \n",
      "1B3S\n",
      "Structure exists: './skempi/PDBs/pdb1b3s.ent' \n",
      "1X1W\n",
      "Structure exists: './skempi/PDBs/pdb1x1w.ent' \n",
      "1X1X\n",
      "Structure exists: './skempi/PDBs/pdb1x1x.ent' \n",
      "1SBB\n",
      "Structure exists: './skempi/PDBs/pdb1sbb.ent' \n",
      "1JCK\n",
      "Structure exists: './skempi/PDBs/pdb1jck.ent' \n",
      "1E96\n",
      "Structure exists: './skempi/PDBs/pdb1e96.ent' \n",
      "1AK4\n",
      "Structure exists: './skempi/PDBs/pdb1ak4.ent' \n",
      "1M9E\n",
      "Structure exists: './skempi/PDBs/pdb1m9e.ent' \n",
      "2B42\n",
      "Structure exists: './skempi/PDBs/pdb2b42.ent' \n",
      "2I26\n",
      "Structure exists: './skempi/PDBs/pdb2i26.ent' \n",
      "2HLE\n",
      "Structure exists: './skempi/PDBs/pdb2hle.ent' \n",
      "3BT1\n",
      "Structure exists: './skempi/PDBs/pdb3bt1.ent' \n",
      "1UUZ\n",
      "Structure exists: './skempi/PDBs/pdb1uuz.ent' \n",
      "1EFN\n",
      "Structure exists: './skempi/PDBs/pdb1efn.ent' \n",
      "2GOX\n",
      "Structure exists: './skempi/PDBs/pdb2gox.ent' \n",
      "3D5S\n",
      "Structure exists: './skempi/PDBs/pdb3d5s.ent' \n",
      "3D5R\n",
      "Structure exists: './skempi/PDBs/pdb3d5r.ent' \n",
      "2NOJ\n",
      "Structure exists: './skempi/PDBs/pdb2noj.ent' \n",
      "3BP8\n",
      "Structure exists: './skempi/PDBs/pdb3bp8.ent' \n",
      "2HRK\n",
      "Structure exists: './skempi/PDBs/pdb2hrk.ent' \n",
      "2WPT\n",
      "Structure exists: './skempi/PDBs/pdb2wpt.ent' \n",
      "2VLP\n",
      "Structure exists: './skempi/PDBs/pdb2vlp.ent' \n",
      "2VLN\n",
      "Structure exists: './skempi/PDBs/pdb2vln.ent' \n",
      "2VLQ\n",
      "Structure exists: './skempi/PDBs/pdb2vlq.ent' \n",
      "2VLO\n",
      "Structure exists: './skempi/PDBs/pdb2vlo.ent' \n",
      "1EMV\n",
      "Structure exists: './skempi/PDBs/pdb1emv.ent' \n",
      "1FR2\n",
      "Structure exists: './skempi/PDBs/pdb1fr2.ent' \n",
      "2GYK\n",
      "Structure exists: './skempi/PDBs/pdb2gyk.ent' \n",
      "2B0Z\n",
      "Structure exists: './skempi/PDBs/pdb2b0z.ent' \n",
      "2B10\n",
      "Structure exists: './skempi/PDBs/pdb2b10.ent' \n",
      "2B11\n",
      "Structure exists: './skempi/PDBs/pdb2b11.ent' \n",
      "2B12\n",
      "Structure exists: './skempi/PDBs/pdb2b12.ent' \n",
      "2PCC\n",
      "Structure exists: './skempi/PDBs/pdb2pcc.ent' \n",
      "2PCB\n",
      "Structure exists: './skempi/PDBs/pdb2pcb.ent' \n",
      "2OOB\n",
      "Structure exists: './skempi/PDBs/pdb2oob.ent' \n",
      "2O3B\n",
      "Structure exists: './skempi/PDBs/pdb2o3b.ent' \n",
      "2J0T\n",
      "Structure exists: './skempi/PDBs/pdb2j0t.ent' \n",
      "2C0L\n",
      "Structure exists: './skempi/PDBs/pdb2c0l.ent' \n",
      "2BTF\n",
      "Structure exists: './skempi/PDBs/pdb2btf.ent' \n",
      "2AJF\n",
      "Structure exists: './skempi/PDBs/pdb2ajf.ent' \n",
      "2A9K\n",
      "Structure exists: './skempi/PDBs/pdb2a9k.ent' \n",
      "4CPA\n",
      "Structure exists: './skempi/PDBs/pdb4cpa.ent' \n",
      "2ABZ\n",
      "Structure exists: './skempi/PDBs/pdb2abz.ent' \n",
      "1XD3\n",
      "Structure exists: './skempi/PDBs/pdb1xd3.ent' \n",
      "1S1Q\n",
      "Structure exists: './skempi/PDBs/pdb1s1q.ent' \n",
      "1MQ8\n",
      "Structure exists: './skempi/PDBs/pdb1mq8.ent' \n",
      "1MAH\n",
      "Structure exists: './skempi/PDBs/pdb1mah.ent' \n",
      "1LFD\n",
      "Structure exists: './skempi/PDBs/pdb1lfd.ent' \n",
      "1KTZ\n",
      "Structure exists: './skempi/PDBs/pdb1ktz.ent' \n",
      "3BK3\n",
      "Structure exists: './skempi/PDBs/pdb3bk3.ent' \n",
      "1XXM\n",
      "Structure exists: './skempi/PDBs/pdb1xxm.ent' \n",
      "1S0W\n",
      "Structure exists: './skempi/PDBs/pdb1s0w.ent' \n",
      "1JTG\n",
      "Structure exists: './skempi/PDBs/pdb1jtg.ent' \n",
      "1HE8\n",
      "Structure exists: './skempi/PDBs/pdb1he8.ent' \n",
      "1H9D\n",
      "Structure exists: './skempi/PDBs/pdb1h9d.ent' \n",
      "1GRN\n",
      "Structure exists: './skempi/PDBs/pdb1grn.ent' \n",
      "1GL1\n",
      "Structure exists: './skempi/PDBs/pdb1gl1.ent' \n",
      "1GL0\n",
      "Structure exists: './skempi/PDBs/pdb1gl0.ent' \n",
      "1FFW\n",
      "Structure exists: './skempi/PDBs/pdb1ffw.ent' \n",
      "1FC2\n",
      "Structure exists: './skempi/PDBs/pdb1fc2.ent' \n",
      "1EAW\n",
      "Structure exists: './skempi/PDBs/pdb1eaw.ent' \n",
      "2G2U\n",
      "Structure exists: './skempi/PDBs/pdb2g2u.ent' \n",
      "2G2W\n",
      "Structure exists: './skempi/PDBs/pdb2g2w.ent' \n",
      "3N4I\n",
      "Structure exists: './skempi/PDBs/pdb3n4i.ent' \n",
      "2FTL\n",
      "Structure exists: './skempi/PDBs/pdb2ftl.ent' \n",
      "1A4Y\n",
      "Structure exists: './skempi/PDBs/pdb1a4y.ent' \n",
      "1Z7X\n",
      "Structure exists: './skempi/PDBs/pdb1z7x.ent' \n",
      "1A22\n",
      "Structure exists: './skempi/PDBs/pdb1a22.ent' \n",
      "1BP3\n",
      "Structure exists: './skempi/PDBs/pdb1bp3.ent' \n",
      "3MZG\n",
      "Structure exists: './skempi/PDBs/pdb3mzg.ent' \n",
      "3N06\n",
      "Structure exists: './skempi/PDBs/pdb3n06.ent' \n",
      "3N0P\n",
      "Structure exists: './skempi/PDBs/pdb3n0p.ent' \n",
      "3NCB\n",
      "Structure exists: './skempi/PDBs/pdb3ncb.ent' \n",
      "3NCC\n",
      "Structure exists: './skempi/PDBs/pdb3ncc.ent' \n",
      "1F47\n",
      "Structure exists: './skempi/PDBs/pdb1f47.ent' \n",
      "1FCC\n",
      "Structure exists: './skempi/PDBs/pdb1fcc.ent' \n",
      "1GC1\n",
      "Structure exists: './skempi/PDBs/pdb1gc1.ent' \n",
      "1PPF\n",
      "Structure exists: './skempi/PDBs/pdb1ppf.ent' \n",
      "1R0R\n",
      "Structure exists: './skempi/PDBs/pdb1r0r.ent' \n",
      "3SGB\n",
      "Structure exists: './skempi/PDBs/pdb3sgb.ent' \n",
      "1SMF\n",
      "Structure exists: './skempi/PDBs/pdb1smf.ent' \n",
      "1FY8\n",
      "Structure exists: './skempi/PDBs/pdb1fy8.ent' \n",
      "3TGK\n",
      "Structure exists: './skempi/PDBs/pdb3tgk.ent' \n",
      "1F5R\n",
      "Structure exists: './skempi/PDBs/pdb1f5r.ent' \n",
      "3BTD\n",
      "Structure exists: './skempi/PDBs/pdb3btd.ent' \n",
      "3BTE\n",
      "Structure exists: './skempi/PDBs/pdb3bte.ent' \n",
      "3BTF\n",
      "Structure exists: './skempi/PDBs/pdb3btf.ent' \n",
      "3BTG\n",
      "Structure exists: './skempi/PDBs/pdb3btg.ent' \n",
      "3BTH\n",
      "Structure exists: './skempi/PDBs/pdb3bth.ent' \n",
      "3BTM\n",
      "Structure exists: './skempi/PDBs/pdb3btm.ent' \n",
      "3BTQ\n",
      "Structure exists: './skempi/PDBs/pdb3btq.ent' \n",
      "3BTW\n",
      "Structure exists: './skempi/PDBs/pdb3btw.ent' \n",
      "3BTT\n",
      "Structure exists: './skempi/PDBs/pdb3btt.ent' \n",
      "2SGP\n",
      "Structure exists: './skempi/PDBs/pdb2sgp.ent' \n",
      "1CSO\n",
      "Structure exists: './skempi/PDBs/pdb1cso.ent' \n",
      "1CT0\n",
      "Structure exists: './skempi/PDBs/pdb1ct0.ent' \n",
      "1CT2\n",
      "Structure exists: './skempi/PDBs/pdb1ct2.ent' \n",
      "1CT4\n",
      "Structure exists: './skempi/PDBs/pdb1ct4.ent' \n",
      "2SGQ\n",
      "Structure exists: './skempi/PDBs/pdb2sgq.ent' \n",
      "1SGD\n",
      "Structure exists: './skempi/PDBs/pdb1sgd.ent' \n",
      "1SGE\n",
      "Structure exists: './skempi/PDBs/pdb1sge.ent' \n",
      "1SGN\n",
      "Structure exists: './skempi/PDBs/pdb1sgn.ent' \n",
      "1SGP\n",
      "Structure exists: './skempi/PDBs/pdb1sgp.ent' \n",
      "1SGQ\n",
      "Structure exists: './skempi/PDBs/pdb1sgq.ent' \n",
      "1SGY\n",
      "Structure exists: './skempi/PDBs/pdb1sgy.ent' \n",
      "2NU0\n",
      "Structure exists: './skempi/PDBs/pdb2nu0.ent' \n",
      "2NU1\n",
      "Structure exists: './skempi/PDBs/pdb2nu1.ent' \n",
      "2NU2\n",
      "Structure exists: './skempi/PDBs/pdb2nu2.ent' \n",
      "2NU4\n",
      "Structure exists: './skempi/PDBs/pdb2nu4.ent' \n",
      "2J12\n",
      "Structure exists: './skempi/PDBs/pdb2j12.ent' \n",
      "2J1K\n",
      "Structure exists: './skempi/PDBs/pdb2j1k.ent' \n",
      "1KAC\n",
      "Structure exists: './skempi/PDBs/pdb1kac.ent' \n",
      "1P69\n",
      "Structure exists: './skempi/PDBs/pdb1p69.ent' \n",
      "1P6A\n",
      "Structure exists: './skempi/PDBs/pdb1p6a.ent' \n",
      "5F4E\n",
      "Structure exists: './skempi/PDBs/pdb5f4e.ent' \n",
      "3SF4\n",
      "Structure exists: './skempi/PDBs/pdb3sf4.ent' \n",
      "4G2V\n",
      "Structure exists: './skempi/PDBs/pdb4g2v.ent' \n",
      "4WND\n",
      "Structure exists: './skempi/PDBs/pdb4wnd.ent' \n",
      "3BX1\n",
      "Structure exists: './skempi/PDBs/pdb3bx1.ent' \n",
      "1FSS\n",
      "Structure exists: './skempi/PDBs/pdb1fss.ent' \n",
      "1B41\n",
      "Structure exists: './skempi/PDBs/pdb1b41.ent' \n",
      "4HRN\n",
      "Structure exists: './skempi/PDBs/pdb4hrn.ent' \n",
      "3Q8D\n",
      "Structure exists: './skempi/PDBs/pdb3q8d.ent' \n",
      "3RF3\n",
      "Structure exists: './skempi/PDBs/pdb3rf3.ent' \n",
      "3LB6\n",
      "Structure exists: './skempi/PDBs/pdb3lb6.ent' \n",
      "3UIG\n",
      "Structure exists: './skempi/PDBs/pdb3uig.ent' \n",
      "3UII\n",
      "Structure exists: './skempi/PDBs/pdb3uii.ent' \n",
      "3UIH\n",
      "Structure exists: './skempi/PDBs/pdb3uih.ent' \n",
      "4CVW\n",
      "Structure exists: './skempi/PDBs/pdb4cvw.ent' \n",
      "3M62\n",
      "Structure exists: './skempi/PDBs/pdb3m62.ent' \n",
      "3M63\n",
      "Structure exists: './skempi/PDBs/pdb3m63.ent' \n",
      "3SEK\n",
      "Structure exists: './skempi/PDBs/pdb3sek.ent' \n",
      "3KBH\n",
      "Structure exists: './skempi/PDBs/pdb3kbh.ent' \n",
      "2AW2\n",
      "Structure exists: './skempi/PDBs/pdb2aw2.ent' \n",
      "4UYP\n",
      "Structure exists: './skempi/PDBs/pdb4uyp.ent' \n",
      "4UYQ\n",
      "Structure exists: './skempi/PDBs/pdb4uyq.ent' \n",
      "2VN5\n",
      "Structure exists: './skempi/PDBs/pdb2vn5.ent' \n",
      "4FZA\n",
      "Structure exists: './skempi/PDBs/pdb4fza.ent' \n",
      "3MZW\n",
      "Structure exists: './skempi/PDBs/pdb3mzw.ent' \n",
      "3S9D\n",
      "Structure exists: './skempi/PDBs/pdb3s9d.ent' \n",
      "3SE3\n",
      "Structure exists: './skempi/PDBs/pdb3se3.ent' \n",
      "3SE3\n",
      "Structure exists: './skempi/PDBs/pdb3se3.ent' \n",
      "3SE4\n",
      "Structure exists: './skempi/PDBs/pdb3se4.ent' \n",
      "3SE4\n",
      "Structure exists: './skempi/PDBs/pdb3se4.ent' \n",
      "1E50\n",
      "Structure exists: './skempi/PDBs/pdb1e50.ent' \n",
      "1JTD\n",
      "Structure exists: './skempi/PDBs/pdb1jtd.ent' \n",
      "2DVW\n",
      "Structure exists: './skempi/PDBs/pdb2dvw.ent' \n",
      "3WWN\n",
      "Structure exists: './skempi/PDBs/pdb3wwn.ent' \n",
      "3F1S\n",
      "Structure exists: './skempi/PDBs/pdb3f1s.ent' \n",
      "1KNE\n",
      "Structure exists: './skempi/PDBs/pdb1kne.ent' \n",
      "2DSQ\n",
      "Structure exists: './skempi/PDBs/pdb2dsq.ent' \n",
      "1WQJ\n",
      "Structure exists: './skempi/PDBs/pdb1wqj.ent' \n",
      "4BFI\n",
      "Structure exists: './skempi/PDBs/pdb4bfi.ent' \n",
      "4EKD\n",
      "Structure exists: './skempi/PDBs/pdb4ekd.ent' \n",
      "4GNK\n",
      "Structure exists: './skempi/PDBs/pdb4gnk.ent' \n",
      "4GU0\n",
      "Structure exists: './skempi/PDBs/pdb4gu0.ent' \n",
      "4JEU\n",
      "Structure exists: './skempi/PDBs/pdb4jeu.ent' \n",
      "4KRL\n",
      "Structure exists: './skempi/PDBs/pdb4krl.ent' \n",
      "4KRO\n",
      "Structure exists: './skempi/PDBs/pdb4kro.ent' \n",
      "4KRP\n",
      "Structure exists: './skempi/PDBs/pdb4krp.ent' \n",
      "4MYW\n",
      "Structure exists: './skempi/PDBs/pdb4myw.ent' \n",
      "3U82\n",
      "Structure exists: './skempi/PDBs/pdb3u82.ent' \n",
      "4NZW\n",
      "Structure exists: './skempi/PDBs/pdb4nzw.ent' \n",
      "4O27\n",
      "Structure exists: './skempi/PDBs/pdb4o27.ent' \n",
      "4OFY\n",
      "Structure exists: './skempi/PDBs/pdb4ofy.ent' \n",
      "2C5D\n",
      "Structure exists: './skempi/PDBs/pdb2c5d.ent' \n",
      "4RA0\n",
      "Structure exists: './skempi/PDBs/pdb4ra0.ent' \n",
      "4Y61\n",
      "Structure exists: './skempi/PDBs/pdb4y61.ent' \n",
      "4YEB\n",
      "Structure exists: './skempi/PDBs/pdb4yeb.ent' \n",
      "4YFD\n",
      "Structure exists: './skempi/PDBs/pdb4yfd.ent' \n",
      "4YH7\n",
      "Structure exists: './skempi/PDBs/pdb4yh7.ent' \n",
      "5CXB\n",
      "Structure exists: './skempi/PDBs/pdb5cxb.ent' \n",
      "5CYK\n",
      "Structure exists: './skempi/PDBs/pdb5cyk.ent' \n",
      "4RS1\n",
      "Structure exists: './skempi/PDBs/pdb4rs1.ent' \n",
      "5E6P\n",
      "Structure exists: './skempi/PDBs/pdb5e6p.ent' \n",
      "2REX\n",
      "Structure exists: './skempi/PDBs/pdb2rex.ent' \n",
      "3Q3J\n",
      "Structure exists: './skempi/PDBs/pdb3q3j.ent' \n",
      "3NVQ\n",
      "Structure exists: './skempi/PDBs/pdb3nvq.ent' \n",
      "3NVN\n",
      "Structure exists: './skempi/PDBs/pdb3nvn.ent' \n",
      "4G0N\n",
      "Structure exists: './skempi/PDBs/pdb4g0n.ent' \n",
      "1GUA\n",
      "Structure exists: './skempi/PDBs/pdb1gua.ent' \n",
      "1K8R\n",
      "Structure exists: './skempi/PDBs/pdb1k8r.ent' \n",
      "3KUD\n",
      "Structure exists: './skempi/PDBs/pdb3kud.ent' \n",
      "1C1Y\n",
      "Structure exists: './skempi/PDBs/pdb1c1y.ent' \n",
      "3EQS\n",
      "Structure exists: './skempi/PDBs/pdb3eqs.ent' \n",
      "3LNZ\n",
      "Structure exists: './skempi/PDBs/pdb3lnz.ent' \n",
      "3EQY\n",
      "Structure exists: './skempi/PDBs/pdb3eqy.ent' \n",
      "3QHY\n",
      "Structure exists: './skempi/PDBs/pdb3qhy.ent' \n",
      "1OHZ\n",
      "Structure exists: './skempi/PDBs/pdb1ohz.ent' \n",
      "2CCL\n",
      "Structure exists: './skempi/PDBs/pdb2ccl.ent' \n",
      "5K39\n",
      "Structure exists: './skempi/PDBs/pdb5k39.ent' \n",
      "5M2O\n",
      "Structure exists: './skempi/PDBs/pdb5m2o.ent' \n",
      "1YCS\n",
      "Structure exists: './skempi/PDBs/pdb1ycs.ent' \n",
      "3EG5\n",
      "Structure exists: './skempi/PDBs/pdb3eg5.ent' \n",
      "5XCO\n",
      "Structure exists: './skempi/PDBs/pdb5xco.ent' \n",
      "5UFE\n",
      "Structure exists: './skempi/PDBs/pdb5ufe.ent' \n",
      "5UFQ\n",
      "Structure exists: './skempi/PDBs/pdb5ufq.ent' \n",
      "5TAR\n",
      "Structure exists: './skempi/PDBs/pdb5tar.ent' \n",
      "4L0P\n",
      "Structure exists: './skempi/PDBs/pdb4l0p.ent' \n",
      "1KBH\n",
      "Structure exists: './skempi/PDBs/pdb1kbh.ent' \n",
      "2KSO\n",
      "Structure exists: './skempi/PDBs/pdb2kso.ent' \n"
     ]
    }
   ],
   "source": [
    "for item in wild_list:\n",
    "    ent_name = item[:4]\n",
    "    print(ent_name)\n",
    "    pdbl = PDBList()\n",
    "    assert(len(ent_name) ==4)\n",
    "    pdbl.retrieve_pdb_file(ent_name, pdir = './skempi/PDBs/', file_format='pdb')"
   ]
  },
  {
   "cell_type": "code",
   "execution_count": 32,
   "metadata": {},
   "outputs": [],
   "source": [
    "def get_seq(ent_name, chain, seqinfo):\n",
    "#     print(ent_names, chain_ID0, chain_ID1)\n",
    "    parser = PDBParser()\n",
    "    structure = parser.get_structure(ent_name, './skempi/PDBs/pdb'+ ent_name.lower() + '.ent')\n",
    "    #     assert(len(structure) == 1)\n",
    "    model = structure[0]\n",
    "\n",
    "    w_name = ent_name+'_'+ chain\n",
    "    if w_name not in seqinfo:\n",
    "        w_seq = ''\n",
    "\n",
    "        chain = model[chain]\n",
    "        ppb = PPBuilder()\n",
    "        for pp in ppb.build_peptides(chain):\n",
    "            w_seq += pp.get_sequence()\n",
    "        #print(type(w_seq))\n",
    "        sequence = w_name + \" \" + str(w_seq)\n",
    "        seqinfo.append(sequence)\n",
    "        \n",
    "    return seqinfo"
   ]
  },
  {
   "cell_type": "code",
   "execution_count": 33,
   "metadata": {},
   "outputs": [],
   "source": [
    "seqinfo = []\n",
    "\n",
    "for item in wild_list:\n",
    "    ent_name = item[:4]\n",
    "    chain0 = item[-1]\n",
    "    get_seq(ent_name, chain0, seqinfo)\n",
    "    chain1 = item[-3]\n",
    "    get_seq(ent_name, chain1, seqinfo)\n",
    "    "
   ]
  },
  {
   "cell_type": "code",
   "execution_count": 34,
   "metadata": {},
   "outputs": [
    {
     "data": {
      "text/plain": [
       "450"
      ]
     },
     "execution_count": 34,
     "metadata": {},
     "output_type": "execute_result"
    }
   ],
   "source": [
    "len(seqinfo)"
   ]
  },
  {
   "cell_type": "code",
   "execution_count": 35,
   "metadata": {},
   "outputs": [],
   "source": [
    "for elem in seqinfo:\n",
    "    print(elem, file=open(\"./skempi/wild2.seq.txt\", \"a\"))"
   ]
  },
  {
   "cell_type": "markdown",
   "metadata": {},
   "source": [
    "# mutation sequence"
   ]
  },
  {
   "cell_type": "code",
   "execution_count": 36,
   "metadata": {},
   "outputs": [],
   "source": [
    "mutated_dg_info= []\n",
    "mutated_seq_list= []\n",
    "\n",
    "f3 = open(\"./skempi/mut.seq.txt\", \"w\")\n",
    "#f4 = open(\"./skempi/mut.dg.txt\", \"w\")\n",
    "#print(ppi.shape)\n",
    "\n",
    "for i in range(6794):\n",
    "    data = ppi.iloc[i]\n",
    "    complex_id = data[0]\n",
    "    ent_name = data[0][:4]\n",
    "    chains = data[0].split('_')[1:]\n",
    "    #print(chains)\n",
    "    assert(len(chains) == 2)\n",
    "    #     print(i, len(ppi))\n",
    "    chain_ID0 = chains[0]\n",
    "    chain_ID1 = chains[1]\n",
    "\n",
    "    # there also exists cases the two chains in one side\n",
    "    if len(chain_ID0) == 1 and len(chain_ID1) == 1:\n",
    "        kd = data['Affinity_mut_parsed']\n",
    "        #print(kd)\n",
    "        temp = data['Temperature'].strip()[:3]\n",
    "        #print(temp)\n",
    "        mutation_site = data['Mutation(s)_cleaned']\n",
    "        mutated_chain_ID0 = chain_ID0 + \"_\" + mutation_site\n",
    "        mutated_chain_ID1 = chain_ID1 + \"_\" + mutation_site\n",
    "        #get_dg(ent_name, mutated_chain_ID0, mutated_chain_ID1, kd, mutated_dg_info)\n",
    "        mutated_seq_list.append(ent_name + \"_\" + mutated_chain_ID0)\n",
    "        mutated_seq_list.append(ent_name + \"_\" + mutated_chain_ID1)\n",
    "\n",
    "#for elem in mutated_dg_info:\n",
    "    #print(elem, file=open(\"./skempi/mut.dg.txt\", \"a\"))\n",
    "\n",
    "f3.close()\n",
    "#f4.close()"
   ]
  },
  {
   "cell_type": "markdown",
   "metadata": {},
   "source": [
    "There is 4165 mutated complex pair with two chains"
   ]
  },
  {
   "cell_type": "code",
   "execution_count": 37,
   "metadata": {},
   "outputs": [
    {
     "data": {
      "text/plain": [
       "['1TM1_E_TI39D',\n",
       " '1TM1_I_TI39D',\n",
       " '1TM1_E_TI39A',\n",
       " '1TM1_I_TI39A',\n",
       " '1TM1_E_EI41A',\n",
       " '1TM1_I_EI41A',\n",
       " '1TM1_E_TI39A,EI41A',\n",
       " '1TM1_I_TI39A,EI41A',\n",
       " '1TM1_E_TI39D,EI41A',\n",
       " '1TM1_I_TI39D,EI41A']"
      ]
     },
     "execution_count": 37,
     "metadata": {},
     "output_type": "execute_result"
    }
   ],
   "source": [
    "len(mutated_seq_list)\n",
    "mutated_seq_list[40:50]"
   ]
  },
  {
   "cell_type": "markdown",
   "metadata": {},
   "source": [
    "## sequencing data"
   ]
  },
  {
   "cell_type": "markdown",
   "metadata": {},
   "source": [
    "read wild-type txt into dic"
   ]
  },
  {
   "cell_type": "code",
   "execution_count": 38,
   "metadata": {},
   "outputs": [],
   "source": [
    "seq_wild = {}\n",
    "with open(\"./skempi/wild2.seq.txt\") as f:\n",
    "    for line in f:\n",
    "       (name, sequence) = line.split()\n",
    "       seq_wild[name] = sequence\n"
   ]
  },
  {
   "cell_type": "code",
   "execution_count": 39,
   "metadata": {},
   "outputs": [],
   "source": [
    "def mutation_on_seq(los, seq_mutated):\n",
    "    info = los.split(\"_\")\n",
    "    ent_name = info[0]\n",
    "    chain_id = info[1]\n",
    "    ent_id = \"_\".join(info[:2])\n",
    "    #print(ent_id)\n",
    "    lo_mutation = info[2].split(\",\")\n",
    "    #print(lo_mutation)\n",
    "    seq_w = seq_wild[ent_id]\n",
    "\n",
    "    for item in lo_mutation:\n",
    "        mutation_chain = item[1]\n",
    "        mutation_pos = int(item[2:-1])\n",
    "        #print(mutation_pos)\n",
    "        r_w = item[0]\n",
    "        #print(r_w)\n",
    "        r_m = item[-1]\n",
    "        #print(r_m)\n",
    "        \n",
    "        if chain_id == mutation_chain:\n",
    "            #print(seq_w)\n",
    "            seq = list(seq_w)\n",
    "            #print(seq[mutation_pos - 1])\n",
    "            if mutation_pos > len(seq_w):\n",
    "                errormeg = \"exceed length in \" + los\n",
    "                print(errormeg)\n",
    "            elif seq[mutation_pos -1] == r_w:\n",
    "                seq[mutation_pos - 1] = r_m\n",
    "                seq_m = \"\".join(seq)\n",
    "                #print(seq_m)\n",
    "                seq_mutated[los] = seq_m\n",
    "                seq_w = seq_m\n",
    "            else:\n",
    "                errormeg = \"not corresponding in \" + los\n",
    "                print(errormeg)\n",
    "        else:\n",
    "            seq_mutated[los] = seq_w\n",
    "\n"
   ]
  },
  {
   "cell_type": "markdown",
   "metadata": {},
   "source": [
    "#### tests"
   ]
  },
  {
   "cell_type": "code",
   "execution_count": 40,
   "metadata": {},
   "outputs": [
    {
     "name": "stdout",
     "output_type": "stream",
     "text": [
      "MKTEWPELVGKSVEEAKKVILQDKPAAQIIVLPVGTIVTMEYRIDRVRLFVDRLDNIAQVPRVG\n",
      "MKTEWPELVGKSVEEAKKVILQDKPAAQIIVLPVGTIVDMAYRIDRVRLFVDRLDNIAQVPRVG\n"
     ]
    }
   ],
   "source": [
    "seq_mutated = {}\n",
    "mutation_on_seq('1TM1_I_TI39D,EI41A',seq_mutated)\n",
    "print(seq_wild['1TM1_I'])\n",
    "print(seq_mutated['1TM1_I_TI39D,EI41A'])"
   ]
  },
  {
   "cell_type": "code",
   "execution_count": 41,
   "metadata": {},
   "outputs": [
    {
     "name": "stdout",
     "output_type": "stream",
     "text": [
      "MKTEWPELVGKSVEEAKKVILQDKPAAQIIVLPVGTIVTMEYRIDRVRLFVDRLDNIAQVPRVG\n",
      "MKTEWPELVGKSVEEAKKVILQDKPAAQIIVLPVGTIVTMEYRIDRVCLFVDRLDNIAQVPRVG\n"
     ]
    }
   ],
   "source": [
    "mutation_on_seq('1TM1_I_RI48C',seq_mutated)\n",
    "print(seq_wild['1TM1_I'])\n",
    "print(seq_mutated['1TM1_I_RI48C'])"
   ]
  },
  {
   "cell_type": "code",
   "execution_count": 42,
   "metadata": {},
   "outputs": [
    {
     "name": "stdout",
     "output_type": "stream",
     "text": [
      "AQSVPYGVSQIKAPALHSQGYTGSNVKVAVIDSGIDSSHPDLKVAGGASMVPSETNPFQDNNSHGTHVAGTVAALNNSIGVLGVAPSASLYAVKVLGADGSGQYSWIINGIEWAIANNMDVINMSLGGPSGSAALKAAVDKAVASGVVVVAAAGNEGTSGSSSTVGYPGKYPSVIAVGAVDSSNQRASFSSVGPELDVMAPGVSIQSTLPGNKYGAYNGTSMASPHVAGAAALILSKHPNWTNTQVRSSLENTTTKLGDSFYYGKGLINVQAAAQHHHHHH\n",
      "AQSVPYGVSQIKAPALHSQGYTGSNVKVAVIDSGIDSSHPDLKVAGGASMVPSETNPFQDNNSHGTHVAGTVAALNNSIGVLGVAPSASLYAVKVLGADGSGQYSWIINGIEWAIANNMDVINMSLGGPSGSAALKAAVDKAVASGVVVVAAAGNEGTSGSSSTVGYPGKYPSVIAVGAVDSSNQRASFSSVGPELDVMAPGVSIQSTLPGNKYGAYNGTSMASPHVAGAAALILSKHPNWTNTQVRSSLENTTTKLGDSFYYGKGLINVQAAAQHHHHHH\n"
     ]
    },
    {
     "data": {
      "text/plain": [
       "True"
      ]
     },
     "execution_count": 42,
     "metadata": {},
     "output_type": "execute_result"
    }
   ],
   "source": [
    "mutation_on_seq('1TM1_E_EI41A',seq_mutated)\n",
    "print(seq_wild['1TM1_E'])\n",
    "print(seq_mutated['1TM1_E_EI41A'])\n",
    "seq_wild['1TM1_E'] == seq_mutated['1TM1_E_EI41A']"
   ]
  },
  {
   "cell_type": "code",
   "execution_count": 43,
   "metadata": {},
   "outputs": [
    {
     "name": "stdout",
     "output_type": "stream",
     "text": [
      "KHSISDYTEAEFLEFVKKIARAEGATECDDNKLVREFERLTEHPDGSDLIYYPRDDREDSPEGIVKEIKEWRAANGKSGFKQ\n",
      "KHSISDYTEAEFLEFVKKIARAEGATECDDAKLVREFERLTEHPDGSDLIYYPRDDREDSPEGIVKEIKEWRAANGKSGFKQ\n",
      "PGKATGKGKPVGDKWLDDAGKDSGAPIPDRIADKLRDKEFKSFDDFRKAVWEEVSKDPELSKNLNPSNKSSVSKGYSPFTPKNQQVGCRKVYELHHDKGEVYDMDNIRVTTPK\n",
      "PGKATGKGKPVGDKWLDDAGKDSGAPIPDRIADKLRDKEFKSFDDFRKAVWEEVSKDPELSKNLNPSNKSSVSKGYSPATPKNQQVGCRKVYELHHDKGEVYDMDNIRVTTPK\n"
     ]
    }
   ],
   "source": [
    "mutation_on_seq('2WPT_A_FB79A,NA31A',seq_mutated)\n",
    "print(seq_wild['2WPT_A'])\n",
    "print(seq_mutated['2WPT_A_FB79A,NA31A'])\n",
    "\n",
    "mutation_on_seq('2WPT_B_FB79A,NA31A',seq_mutated)\n",
    "print(seq_wild['2WPT_B'])\n",
    "print(seq_mutated['2WPT_B_FB79A,NA31A'])"
   ]
  },
  {
   "cell_type": "markdown",
   "metadata": {},
   "source": [
    "#### result"
   ]
  },
  {
   "cell_type": "code",
   "execution_count": 44,
   "metadata": {},
   "outputs": [
    {
     "name": "stdout",
     "output_type": "stream",
     "text": [
      "not corresponding in 1S1Q_A_WA72A\n",
      "not corresponding in 1S1Q_A_FA85A\n",
      "exceed length in 1KBH_B_YB1172W,IB1126V\n",
      "exceed length in 1KBH_B_YB1172W,IB1126V\n",
      "exceed length in 1KBH_B_YB1172W,LB1131A\n",
      "exceed length in 1KBH_B_YB1172W,LB1131A\n",
      "exceed length in 1KBH_B_YB1172W,LB1134A\n",
      "exceed length in 1KBH_B_YB1172W,LB1134A\n",
      "exceed length in 1KBH_B_YB1172W,LB1138A\n",
      "exceed length in 1KBH_B_YB1172W,LB1138A\n",
      "exceed length in 1KBH_B_YB1172W,VB1150A\n",
      "exceed length in 1KBH_B_YB1172W,VB1150A\n",
      "exceed length in 1KBH_B_YB1172W,LB1151A\n",
      "exceed length in 1KBH_B_YB1172W,LB1151A\n",
      "exceed length in 1KBH_B_YB1172W,LB1160A\n",
      "exceed length in 1KBH_B_YB1172W,LB1160A\n",
      "exceed length in 1KBH_B_YB1172W,AB1163G\n",
      "exceed length in 1KBH_B_YB1172W,AB1163G\n",
      "exceed length in 1KBH_B_YB1172W,IB1165V\n",
      "exceed length in 1KBH_B_YB1172W,IB1165V\n",
      "exceed length in 1KBH_B_YB1172W,VB1173A\n",
      "exceed length in 1KBH_B_YB1172W,VB1173A\n",
      "exceed length in 1KBH_A_YB1172W,LA902A\n",
      "exceed length in 1KBH_B_YB1172W,LA902A\n",
      "exceed length in 1KBH_A_YB1172W,LA903A\n",
      "exceed length in 1KBH_B_YB1172W,LA903A\n",
      "exceed length in 1KBH_A_YB1172W,LA909A\n",
      "exceed length in 1KBH_B_YB1172W,LA909A\n",
      "exceed length in 1KBH_A_YB1172W,LA910A\n",
      "exceed length in 1KBH_B_YB1172W,LA910A\n",
      "exceed length in 1KBH_A_YB1172W,AA915G\n",
      "exceed length in 1KBH_B_YB1172W,AA915G\n",
      "exceed length in 1KBH_A_YB1172W,LA918A\n",
      "exceed length in 1KBH_B_YB1172W,LA918A\n",
      "exceed length in 1KBH_A_YB1172W,IA921V\n",
      "exceed length in 1KBH_B_YB1172W,IA921V\n",
      "exceed length in 1KBH_A_YB1172W,LA925A\n",
      "exceed length in 1KBH_B_YB1172W,LA925A\n",
      "exceed length in 1KBH_A_YB1172W,IA927V\n",
      "exceed length in 1KBH_B_YB1172W,IA927V\n",
      "exceed length in 1KBH_A_YB1172W,VA931A\n",
      "exceed length in 1KBH_B_YB1172W,VA931A\n",
      "exceed length in 1KBH_B_YB1172W\n",
      "exceed length in 1KBH_A_YB1172W,IB1126V,LA903A\n",
      "exceed length in 1KBH_B_YB1172W,IB1126V,LA903A\n",
      "exceed length in 1KBH_B_YB1172W,IB1126V,LA903A\n",
      "exceed length in 1KBH_A_YB1172W,IB1126V,LA902A\n",
      "exceed length in 1KBH_B_YB1172W,IB1126V,LA902A\n",
      "exceed length in 1KBH_B_YB1172W,IB1126V,LA902A\n",
      "exceed length in 1KBH_A_YB1172W,IB1126V,IA921V\n",
      "exceed length in 1KBH_B_YB1172W,IB1126V,IA921V\n",
      "exceed length in 1KBH_B_YB1172W,IB1126V,IA921V\n",
      "exceed length in 1KBH_A_YB1172W,IB1126V,VA931A\n",
      "exceed length in 1KBH_B_YB1172W,IB1126V,VA931A\n",
      "exceed length in 1KBH_B_YB1172W,IB1126V,VA931A\n",
      "exceed length in 1KBH_A_YB1172W,IB1126V,LA909A\n",
      "exceed length in 1KBH_B_YB1172W,IB1126V,LA909A\n",
      "exceed length in 1KBH_B_YB1172W,IB1126V,LA909A\n",
      "exceed length in 1KBH_A_YB1172W,IB1126V,IA927V\n",
      "exceed length in 1KBH_B_YB1172W,IB1126V,IA927V\n",
      "exceed length in 1KBH_B_YB1172W,IB1126V,IA927V\n",
      "exceed length in 1KBH_A_YB1172W,LB1131A,LA902A\n",
      "exceed length in 1KBH_B_YB1172W,LB1131A,LA902A\n",
      "exceed length in 1KBH_B_YB1172W,LB1131A,LA902A\n",
      "exceed length in 1KBH_A_YB1172W,LB1131A,LA903A\n",
      "exceed length in 1KBH_B_YB1172W,LB1131A,LA903A\n",
      "exceed length in 1KBH_B_YB1172W,LB1131A,LA903A\n",
      "exceed length in 1KBH_A_YB1172W,LB1131A,LA909A\n",
      "exceed length in 1KBH_B_YB1172W,LB1131A,LA909A\n",
      "exceed length in 1KBH_B_YB1172W,LB1131A,LA909A\n",
      "exceed length in 1KBH_A_YB1172W,LB1131A,IA921V\n",
      "exceed length in 1KBH_B_YB1172W,LB1131A,IA921V\n",
      "exceed length in 1KBH_B_YB1172W,LB1131A,IA921V\n",
      "exceed length in 1KBH_A_YB1172W,LB1131A,VA931A\n",
      "exceed length in 1KBH_B_YB1172W,LB1131A,VA931A\n",
      "exceed length in 1KBH_B_YB1172W,LB1131A,VA931A\n",
      "exceed length in 1KBH_A_YB1172W,LB1131A,IA927V\n",
      "exceed length in 1KBH_B_YB1172W,LB1131A,IA927V\n",
      "exceed length in 1KBH_B_YB1172W,LB1131A,IA927V\n",
      "exceed length in 1KBH_A_YB1172W,LB1131A,AA915G\n",
      "exceed length in 1KBH_B_YB1172W,LB1131A,AA915G\n",
      "exceed length in 1KBH_B_YB1172W,LB1131A,AA915G\n",
      "exceed length in 1KBH_A_YB1172W,LB1134A,LA909A\n",
      "exceed length in 1KBH_B_YB1172W,LB1134A,LA909A\n",
      "exceed length in 1KBH_B_YB1172W,LB1134A,LA909A\n",
      "exceed length in 1KBH_A_YB1172W,LB1134A,LA902A\n",
      "exceed length in 1KBH_B_YB1172W,LB1134A,LA902A\n",
      "exceed length in 1KBH_B_YB1172W,LB1134A,LA902A\n",
      "exceed length in 1KBH_A_YB1172W,LB1134A,LA903A\n",
      "exceed length in 1KBH_B_YB1172W,LB1134A,LA903A\n",
      "exceed length in 1KBH_B_YB1172W,LB1134A,LA903A\n",
      "exceed length in 1KBH_A_YB1172W,LB1134A,IA921V\n",
      "exceed length in 1KBH_B_YB1172W,LB1134A,IA921V\n",
      "exceed length in 1KBH_B_YB1172W,LB1134A,IA921V\n",
      "exceed length in 1KBH_A_YB1172W,LB1134A,IA927V\n",
      "exceed length in 1KBH_B_YB1172W,LB1134A,IA927V\n",
      "exceed length in 1KBH_B_YB1172W,LB1134A,IA927V\n",
      "exceed length in 1KBH_A_YB1172W,LB1134A,AA915G\n",
      "exceed length in 1KBH_B_YB1172W,LB1134A,AA915G\n",
      "exceed length in 1KBH_B_YB1172W,LB1134A,AA915G\n",
      "exceed length in 1KBH_A_YB1172W,LB1138A,LA909A\n",
      "exceed length in 1KBH_B_YB1172W,LB1138A,LA909A\n",
      "exceed length in 1KBH_B_YB1172W,LB1138A,LA909A\n",
      "exceed length in 1KBH_A_YB1172W,LB1138A,IA921V\n",
      "exceed length in 1KBH_B_YB1172W,LB1138A,IA921V\n",
      "exceed length in 1KBH_B_YB1172W,LB1138A,IA921V\n",
      "exceed length in 1KBH_A_YB1172W,LB1138A,LA902A\n",
      "exceed length in 1KBH_B_YB1172W,LB1138A,LA902A\n",
      "exceed length in 1KBH_B_YB1172W,LB1138A,LA902A\n",
      "exceed length in 1KBH_A_YB1172W,LB1138A,LA903A\n",
      "exceed length in 1KBH_B_YB1172W,LB1138A,LA903A\n",
      "exceed length in 1KBH_B_YB1172W,LB1138A,LA903A\n",
      "exceed length in 1KBH_A_YB1172W,LB1138A,AA915G\n",
      "exceed length in 1KBH_B_YB1172W,LB1138A,AA915G\n",
      "exceed length in 1KBH_B_YB1172W,LB1138A,AA915G\n",
      "exceed length in 1KBH_A_YB1172W,LB1138A,IA927V\n",
      "exceed length in 1KBH_B_YB1172W,LB1138A,IA927V\n",
      "exceed length in 1KBH_B_YB1172W,LB1138A,IA927V\n",
      "exceed length in 1KBH_A_YB1172W,VB1150A,IA927V\n",
      "exceed length in 1KBH_B_YB1172W,VB1150A,IA927V\n",
      "exceed length in 1KBH_B_YB1172W,VB1150A,IA927V\n",
      "exceed length in 1KBH_A_YB1172W,VB1150A,IA921V\n",
      "exceed length in 1KBH_B_YB1172W,VB1150A,IA921V\n",
      "exceed length in 1KBH_B_YB1172W,VB1150A,IA921V\n",
      "exceed length in 1KBH_A_YB1172W,VB1150A,VA931A\n",
      "exceed length in 1KBH_B_YB1172W,VB1150A,VA931A\n",
      "exceed length in 1KBH_B_YB1172W,VB1150A,VA931A\n",
      "exceed length in 1KBH_A_YB1172W,VB1150A,LA909A\n",
      "exceed length in 1KBH_B_YB1172W,VB1150A,LA909A\n",
      "exceed length in 1KBH_B_YB1172W,VB1150A,LA909A\n",
      "exceed length in 1KBH_A_YB1172W,VB1150A,LA902A\n",
      "exceed length in 1KBH_B_YB1172W,VB1150A,LA902A\n",
      "exceed length in 1KBH_B_YB1172W,VB1150A,LA902A\n",
      "exceed length in 1KBH_A_YB1172W,VB1150A,LA903A\n",
      "exceed length in 1KBH_B_YB1172W,VB1150A,LA903A\n",
      "exceed length in 1KBH_B_YB1172W,VB1150A,LA903A\n",
      "exceed length in 1KBH_A_YB1172W,VB1150A,AA915G\n",
      "exceed length in 1KBH_B_YB1172W,VB1150A,AA915G\n",
      "exceed length in 1KBH_B_YB1172W,VB1150A,AA915G\n",
      "exceed length in 1KBH_A_YB1172W,LB1151A,IA921V\n",
      "exceed length in 1KBH_B_YB1172W,LB1151A,IA921V\n",
      "exceed length in 1KBH_B_YB1172W,LB1151A,IA921V\n",
      "exceed length in 1KBH_A_YB1172W,LB1151A,VA931A\n",
      "exceed length in 1KBH_B_YB1172W,LB1151A,VA931A\n",
      "exceed length in 1KBH_B_YB1172W,LB1151A,VA931A\n",
      "exceed length in 1KBH_A_YB1172W,LB1151A,LA902A\n",
      "exceed length in 1KBH_B_YB1172W,LB1151A,LA902A\n",
      "exceed length in 1KBH_B_YB1172W,LB1151A,LA902A\n",
      "exceed length in 1KBH_A_YB1172W,LB1151A,AA915G\n",
      "exceed length in 1KBH_B_YB1172W,LB1151A,AA915G\n",
      "exceed length in 1KBH_B_YB1172W,LB1151A,AA915G\n",
      "exceed length in 1KBH_A_YB1172W,LB1151A,IA927V\n",
      "exceed length in 1KBH_B_YB1172W,LB1151A,IA927V\n",
      "exceed length in 1KBH_B_YB1172W,LB1151A,IA927V\n",
      "exceed length in 1KBH_A_YB1172W,LB1151A,LA909A\n",
      "exceed length in 1KBH_B_YB1172W,LB1151A,LA909A\n",
      "exceed length in 1KBH_B_YB1172W,LB1151A,LA909A\n",
      "exceed length in 1KBH_A_YB1172W,LB1160A,VA931A\n",
      "exceed length in 1KBH_B_YB1172W,LB1160A,VA931A\n",
      "exceed length in 1KBH_B_YB1172W,LB1160A,VA931A\n",
      "exceed length in 1KBH_A_YB1172W,LB1160A,LA909A\n",
      "exceed length in 1KBH_B_YB1172W,LB1160A,LA909A\n",
      "exceed length in 1KBH_B_YB1172W,LB1160A,LA909A\n",
      "exceed length in 1KBH_A_YB1172W,LB1160A,LA902A\n",
      "exceed length in 1KBH_B_YB1172W,LB1160A,LA902A\n",
      "exceed length in 1KBH_B_YB1172W,LB1160A,LA902A\n",
      "exceed length in 1KBH_A_YB1172W,LB1160A,AA915G\n",
      "exceed length in 1KBH_B_YB1172W,LB1160A,AA915G\n",
      "exceed length in 1KBH_B_YB1172W,LB1160A,AA915G\n",
      "exceed length in 1KBH_A_YB1172W,AB1163G,LA902A\n",
      "exceed length in 1KBH_B_YB1172W,AB1163G,LA902A\n",
      "exceed length in 1KBH_B_YB1172W,AB1163G,LA902A\n",
      "exceed length in 1KBH_A_YB1172W,AB1163G,LA903A\n",
      "exceed length in 1KBH_B_YB1172W,AB1163G,LA903A\n",
      "exceed length in 1KBH_B_YB1172W,AB1163G,LA903A\n",
      "exceed length in 1KBH_A_YB1172W,AB1163G,LA909A\n",
      "exceed length in 1KBH_B_YB1172W,AB1163G,LA909A\n",
      "exceed length in 1KBH_B_YB1172W,AB1163G,LA909A\n",
      "exceed length in 1KBH_A_YB1172W,AB1163G,IA921V\n",
      "exceed length in 1KBH_B_YB1172W,AB1163G,IA921V\n",
      "exceed length in 1KBH_B_YB1172W,AB1163G,IA921V\n",
      "exceed length in 1KBH_A_YB1172W,AB1163G,IA927V\n",
      "exceed length in 1KBH_B_YB1172W,AB1163G,IA927V\n",
      "exceed length in 1KBH_B_YB1172W,AB1163G,IA927V\n",
      "exceed length in 1KBH_A_YB1172W,AB1163G,AA915G\n",
      "exceed length in 1KBH_B_YB1172W,AB1163G,AA915G\n",
      "exceed length in 1KBH_B_YB1172W,AB1163G,AA915G\n",
      "exceed length in 1KBH_A_YB1172W,AB1163G,VA931A\n",
      "exceed length in 1KBH_B_YB1172W,AB1163G,VA931A\n",
      "exceed length in 1KBH_B_YB1172W,AB1163G,VA931A\n",
      "exceed length in 1KBH_A_YB1172W,IB1165V,LA909A\n",
      "exceed length in 1KBH_B_YB1172W,IB1165V,LA909A\n",
      "exceed length in 1KBH_B_YB1172W,IB1165V,LA909A\n",
      "exceed length in 1KBH_A_YB1172W,IB1165V,VA931A\n",
      "exceed length in 1KBH_B_YB1172W,IB1165V,VA931A\n",
      "exceed length in 1KBH_B_YB1172W,IB1165V,VA931A\n",
      "exceed length in 1KBH_A_YB1172W,IB1165V,IA921V\n",
      "exceed length in 1KBH_B_YB1172W,IB1165V,IA921V\n",
      "exceed length in 1KBH_B_YB1172W,IB1165V,IA921V\n",
      "exceed length in 1KBH_A_YB1172W,IB1165V,LA902A\n",
      "exceed length in 1KBH_B_YB1172W,IB1165V,LA902A\n",
      "exceed length in 1KBH_B_YB1172W,IB1165V,LA902A\n",
      "exceed length in 1KBH_A_YB1172W,IB1165V,LA903A\n",
      "exceed length in 1KBH_B_YB1172W,IB1165V,LA903A\n",
      "exceed length in 1KBH_B_YB1172W,IB1165V,LA903A\n",
      "exceed length in 1KBH_A_YB1172W,IB1165V,IA927V\n",
      "exceed length in 1KBH_B_YB1172W,IB1165V,IA927V\n",
      "exceed length in 1KBH_B_YB1172W,IB1165V,IA927V\n",
      "exceed length in 1KBH_A_YB1172W,IB1165V,AA915G\n",
      "exceed length in 1KBH_B_YB1172W,IB1165V,AA915G\n",
      "exceed length in 1KBH_B_YB1172W,IB1165V,AA915G\n",
      "exceed length in 1KBH_A_YB1172W,VB1173A,VA931A\n",
      "exceed length in 1KBH_B_YB1172W,VB1173A,VA931A\n",
      "exceed length in 1KBH_B_YB1172W,VB1173A,VA931A\n",
      "exceed length in 1KBH_A_YB1172W,VB1173A,IA927V\n",
      "exceed length in 1KBH_B_YB1172W,VB1173A,IA927V\n",
      "exceed length in 1KBH_B_YB1172W,VB1173A,IA927V\n",
      "exceed length in 1KBH_A_YB1172W,VB1173A,IA921V\n",
      "exceed length in 1KBH_B_YB1172W,VB1173A,IA921V\n",
      "exceed length in 1KBH_B_YB1172W,VB1173A,IA921V\n",
      "exceed length in 1KBH_A_YB1172W,VB1173A,LA909A\n",
      "exceed length in 1KBH_B_YB1172W,VB1173A,LA909A\n",
      "exceed length in 1KBH_B_YB1172W,VB1173A,LA909A\n",
      "exceed length in 1KBH_A_YB1172W,VB1173A,LA903A\n",
      "exceed length in 1KBH_B_YB1172W,VB1173A,LA903A\n",
      "exceed length in 1KBH_B_YB1172W,VB1173A,LA903A\n",
      "exceed length in 1KBH_A_YB1172W,VB1173A,LA902A\n",
      "exceed length in 1KBH_B_YB1172W,VB1173A,LA902A\n",
      "exceed length in 1KBH_B_YB1172W,VB1173A,LA902A\n",
      "exceed length in 1KBH_A_YB1172W,VB1173A,LA910A\n",
      "exceed length in 1KBH_B_YB1172W,VB1173A,LA910A\n",
      "exceed length in 1KBH_B_YB1172W,VB1173A,LA910A\n",
      "exceed length in 1KBH_B_YB1172W\n",
      "exceed length in 1KBH_A_QA896W\n",
      "exceed length in 1KBH_A_LA930W\n",
      "exceed length in 1KBH_B_YB1172W\n",
      "exceed length in 1KBH_A_QA896W\n",
      "exceed length in 1KBH_A_LA930W\n",
      "exceed length in 1KBH_B_YB1172W\n",
      "exceed length in 1KBH_B_YB1172W\n"
     ]
    }
   ],
   "source": [
    "seq_mutated = {}\n",
    "for item in mutated_seq_list:\n",
    "    mutation_on_seq(item, seq_mutated)"
   ]
  },
  {
   "cell_type": "markdown",
   "metadata": {},
   "source": [
    "1KBH is not that long\n",
    "https://www.rcsb.org/structure/1KBH"
   ]
  },
  {
   "cell_type": "code",
   "execution_count": 45,
   "metadata": {},
   "outputs": [
    {
     "data": {
      "text/plain": [
       "'PNRSISPSALQDLLRTLKSPSSPQQQQQVLNILKSNPQLMAAFIKQRTAKYVANQPGMQ'"
      ]
     },
     "execution_count": 45,
     "metadata": {},
     "output_type": "execute_result"
    }
   ],
   "source": [
    "seq_wild['1KBH_B']"
   ]
  },
  {
   "cell_type": "markdown",
   "metadata": {},
   "source": [
    "find the sequenc is 4CPA_I is one amino acids smaller, thus, change the position in csv file.\n",
    "\n",
    "could be different version https://www.rcsb.org/sequence/4CPA#I"
   ]
  },
  {
   "cell_type": "code",
   "execution_count": 46,
   "metadata": {},
   "outputs": [
    {
     "data": {
      "text/plain": [
       "'HADPICNKPCKTHDDCSGAWFCQACWNSARTCGPYV'"
      ]
     },
     "execution_count": 46,
     "metadata": {},
     "output_type": "execute_result"
    }
   ],
   "source": [
    "seq_wild['4CPA_I']"
   ]
  },
  {
   "cell_type": "code",
   "execution_count": 47,
   "metadata": {},
   "outputs": [
    {
     "data": {
      "text/plain": [
       "36"
      ]
     },
     "execution_count": 47,
     "metadata": {},
     "output_type": "execute_result"
    }
   ],
   "source": [
    "len(seq_wild['4CPA_I'])"
   ]
  },
  {
   "cell_type": "code",
   "execution_count": 48,
   "metadata": {},
   "outputs": [
    {
     "data": {
      "text/plain": [
       "32"
      ]
     },
     "execution_count": 48,
     "metadata": {},
     "output_type": "execute_result"
    }
   ],
   "source": [
    "seq_wild['4CPA_I'].find('GPYV')"
   ]
  },
  {
   "cell_type": "markdown",
   "metadata": {},
   "source": [
    "find the sequenc is 1S1Q is one amino acids smaller, thus, change the position in csv file"
   ]
  },
  {
   "cell_type": "code",
   "execution_count": 49,
   "metadata": {},
   "outputs": [
    {
     "data": {
      "text/plain": [
       "39"
      ]
     },
     "execution_count": 49,
     "metadata": {},
     "output_type": "execute_result"
    }
   ],
   "source": [
    "seq_wild['1S1Q_A'].find('VFND')"
   ]
  },
  {
   "cell_type": "code",
   "execution_count": 50,
   "metadata": {},
   "outputs": [
    {
     "data": {
      "text/plain": [
       "'VSESQLKKVSKYKYRDLTVRETVNVITLYKDLKPVLDSYVFNDGSSRELNLTGTIPVPYRGNTYNIPICLWLLDTYPYNPPICFVKPTSSTIKTGKHVDANGKIYLPYLHEWKHPQSDLLGLIQVIVVFGDEPPVFS'"
      ]
     },
     "execution_count": 50,
     "metadata": {},
     "output_type": "execute_result"
    }
   ],
   "source": [
    "seq_wild['1S1Q_A']"
   ]
  },
  {
   "cell_type": "code",
   "execution_count": 51,
   "metadata": {},
   "outputs": [
    {
     "data": {
      "text/plain": [
       "7107"
      ]
     },
     "execution_count": 51,
     "metadata": {},
     "output_type": "execute_result"
    }
   ],
   "source": [
    "len(seq_mutated)"
   ]
  },
  {
   "cell_type": "code",
   "execution_count": 52,
   "metadata": {},
   "outputs": [],
   "source": [
    "f3 = open(\"./skempi/mut.seq.txt\", \"w\")\n",
    "\n",
    "for elem in seq_mutated:\n",
    "    ent_name = elem\n",
    "    seq = seq_mutated[ent_name]\n",
    "    info = ent_name + \" \" + seq\n",
    "    #print(info)\n",
    "    print(info, file=open(\"./skempi/mut.seq.txt\", \"a\"))\n",
    "\n",
    "f3.close()"
   ]
  }
 ],
 "metadata": {
  "interpreter": {
   "hash": "7a542ca580817fc4dd55327026e074e2fa0cd470fc5dee9350c2d8b13822db8d"
  },
  "kernelspec": {
   "display_name": "Python 3.8.2 32-bit",
   "language": "python",
   "name": "python3"
  },
  "language_info": {
   "codemirror_mode": {
    "name": "ipython",
    "version": 3
   },
   "file_extension": ".py",
   "mimetype": "text/x-python",
   "name": "python",
   "nbconvert_exporter": "python",
   "pygments_lexer": "ipython3",
   "version": "3.7.6"
  },
  "orig_nbformat": 4
 },
 "nbformat": 4,
 "nbformat_minor": 2
}
